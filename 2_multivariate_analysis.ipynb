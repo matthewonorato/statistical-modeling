{
 "cells": [
  {
   "cell_type": "markdown",
   "metadata": {},
   "source": [
    "# Statistics Project #2 - Multivariate Analysis\n",
    "***"
   ]
  },
  {
   "cell_type": "markdown",
   "metadata": {},
   "source": [
    "## Introduction\n",
    "***\n",
    "\n",
    "**Description**: This script uses log2-FC protein expression (vs. Day 0) to determine which stages of infection cluster together based on ordination distances and principal component analysis. It also identifies which proteins are most responsible for the clustering (i.e. those that produce the most variation between stages). "
   ]
  },
  {
   "cell_type": "markdown",
   "metadata": {},
   "source": [
    "## Analysis\n",
    "***\n",
    "\n",
    "### Loads libraries, clears global environment, sets working directory, and sizes all plots"
   ]
  },
  {
   "cell_type": "code",
   "execution_count": 1,
   "metadata": {},
   "outputs": [
    {
     "name": "stderr",
     "output_type": "stream",
     "text": [
      "── Attaching packages ─────────────────────────────────────── tidyverse 1.3.0 ──\n",
      "✔ ggplot2 3.3.2     ✔ purrr   0.3.4\n",
      "✔ tibble  3.0.4     ✔ dplyr   1.0.2\n",
      "✔ tidyr   1.1.2     ✔ stringr 1.4.0\n",
      "✔ readr   1.3.1     ✔ forcats 0.4.0\n",
      "── Conflicts ────────────────────────────────────────── tidyverse_conflicts() ──\n",
      "✖ dplyr::filter() masks stats::filter()\n",
      "✖ dplyr::lag()    masks stats::lag()\n",
      "Loading required package: permute\n",
      "Loading required package: lattice\n",
      "This is vegan 2.5-6\n"
     ]
    }
   ],
   "source": [
    "library(tidyverse)\n",
    "library(readxl)\n",
    "library(vegan)\n",
    "library(ggtext)\n",
    "\n",
    "rm(list = ls())\n",
    "\n",
    "setwd('./')\n",
    "\n",
    "options(repr.plot.width=6, repr.plot.height=4)"
   ]
  },
  {
   "cell_type": "markdown",
   "metadata": {},
   "source": [
    "### Loads data, renames columns, and scales log2-FC protein values"
   ]
  },
  {
   "cell_type": "code",
   "execution_count": 2,
   "metadata": {},
   "outputs": [
    {
     "name": "stderr",
     "output_type": "stream",
     "text": [
      "New names:\n",
      "* Protein -> Protein...1\n",
      "* Protein -> Protein...2\n",
      "* d00 -> d00...6\n",
      "* d05 -> d05...7\n",
      "* d10 -> d10...8\n",
      "* ...\n"
     ]
    },
    {
     "data": {
      "text/html": [
       "<table>\n",
       "<thead><tr><th></th><th scope=col>d05</th><th scope=col>d10</th><th scope=col>d20</th><th scope=col>d20.06</th><th scope=col>d20.48</th></tr></thead>\n",
       "<tbody>\n",
       "\t<tr><th scope=row>Rv0001</th><td>-0.36509932 </td><td>-0.617653835</td><td>-0.416322885</td><td>-0.391379910</td><td>-0.58078306 </td></tr>\n",
       "\t<tr><th scope=row>Rv0002</th><td> 0.34052096 </td><td> 0.285545223</td><td>-0.160510036</td><td> 0.035462157</td><td> 0.55754124 </td></tr>\n",
       "\t<tr><th scope=row>Rv0005</th><td> 0.03119920 </td><td>-0.212113283</td><td>-0.363708806</td><td>-0.275038793</td><td>-0.26260650 </td></tr>\n",
       "\t<tr><th scope=row>Rv0006</th><td>-0.07271234 </td><td> 0.150662575</td><td> 0.327648516</td><td> 0.266037554</td><td> 0.35830121 </td></tr>\n",
       "\t<tr><th scope=row>Rv0007</th><td>-0.53655784 </td><td>-0.829949666</td><td>-0.827991048</td><td>-1.012709922</td><td>-0.52715210 </td></tr>\n",
       "\t<tr><th scope=row>Rv0008c</th><td>-0.05388936 </td><td> 0.066548444</td><td> 0.003136684</td><td>-0.054598725</td><td>-0.46106162 </td></tr>\n",
       "\t<tr><th scope=row>Rv0009</th><td>-0.22441652 </td><td>-0.006602043</td><td> 0.182690545</td><td> 0.002000166</td><td>-0.07279753 </td></tr>\n",
       "\t<tr><th scope=row>Rv0011c</th><td>-0.23617776 </td><td>-0.202916439</td><td>-0.621482268</td><td>-0.537036051</td><td>-0.01468218 </td></tr>\n",
       "\t<tr><th scope=row>Rv0013</th><td> 0.20382121 </td><td>-0.041203820</td><td>-0.384507358</td><td>-0.361458103</td><td> 0.26721063 </td></tr>\n",
       "\t<tr><th scope=row>Rv0014c</th><td> 0.35807628 </td><td>-0.090115969</td><td> 0.235609688</td><td> 0.345643271</td><td> 0.03520898 </td></tr>\n",
       "\t<tr><th scope=row>Rv0015c</th><td>-1.00591338 </td><td>-1.013073330</td><td>-0.604187492</td><td>-0.928414469</td><td>-0.99854279 </td></tr>\n",
       "\t<tr><th scope=row>Rv0016c</th><td>-0.17343522 </td><td> 0.111278552</td><td> 0.161385620</td><td> 0.162252114</td><td>-0.12596951 </td></tr>\n",
       "\t<tr><th scope=row>Rv0017c</th><td>-0.14486807 </td><td> 0.244730055</td><td>-0.242666209</td><td>-0.239900989</td><td>-0.34468623 </td></tr>\n",
       "\t<tr><th scope=row>Rv0018c</th><td>-0.06774955 </td><td>-0.020333250</td><td> 0.196179044</td><td>-0.042239870</td><td>-0.11593401 </td></tr>\n",
       "\t<tr><th scope=row>Rv0019c</th><td>-0.31740005 </td><td>-0.391017404</td><td>-0.226935830</td><td>-0.169637493</td><td>-0.09641052 </td></tr>\n",
       "\t<tr><th scope=row>Rv0020c</th><td> 0.47425144 </td><td> 0.523564825</td><td> 0.471181669</td><td> 0.384634813</td><td> 0.37167626 </td></tr>\n",
       "\t<tr><th scope=row>Rv0023</th><td> 0.13823439 </td><td> 0.243598761</td><td> 0.353988400</td><td> 0.359400559</td><td> 0.13797671 </td></tr>\n",
       "\t<tr><th scope=row>Rv0025</th><td>-1.49420842 </td><td>-0.135758780</td><td>-0.052473018</td><td>-0.266211123</td><td> 0.28044287 </td></tr>\n",
       "\t<tr><th scope=row>Rv0027</th><td>-0.38077073 </td><td>-0.520095401</td><td>-0.725040952</td><td>-0.851182604</td><td>-0.15646028 </td></tr>\n",
       "\t<tr><th scope=row>Rv0028</th><td>-0.33015751 </td><td> 0.046646344</td><td> 0.091738475</td><td> 0.017682596</td><td>-0.13158202 </td></tr>\n",
       "\t<tr><th scope=row>Rv0029</th><td>-0.64928980 </td><td>-0.509636200</td><td>-0.496762983</td><td>-0.287252305</td><td> 0.17504435 </td></tr>\n",
       "\t<tr><th scope=row>Rv0030</th><td> 1.41140342 </td><td> 1.873137446</td><td> 1.853213165</td><td> 1.661607553</td><td> 0.72627332 </td></tr>\n",
       "\t<tr><th scope=row>Rv0034</th><td>-0.39459614 </td><td>-0.167369439</td><td>-0.175683587</td><td>-0.133154379</td><td>-0.55521289 </td></tr>\n",
       "\t<tr><th scope=row>Rv0035</th><td>-0.64198399 </td><td>-0.811768051</td><td>-0.873678661</td><td>-0.877934717</td><td>-0.40191866 </td></tr>\n",
       "\t<tr><th scope=row>Rv0036c</th><td> 0.43677418 </td><td> 0.111389125</td><td> 0.200136745</td><td> 0.119637380</td><td> 0.73333978 </td></tr>\n",
       "\t<tr><th scope=row>Rv0038</th><td> 0.37535592 </td><td> 0.530301535</td><td> 0.688581690</td><td> 0.529077564</td><td> 0.21046295 </td></tr>\n",
       "\t<tr><th scope=row>Rv0041</th><td>-0.02521824 </td><td>-0.011972372</td><td>-0.424252506</td><td>-0.365834106</td><td>-0.06026769 </td></tr>\n",
       "\t<tr><th scope=row>Rv0042c</th><td>-0.04476382 </td><td>-0.476752087</td><td>-0.619301005</td><td>-0.431752533</td><td>-0.20714550 </td></tr>\n",
       "\t<tr><th scope=row>Rv0043c</th><td>-0.68336588 </td><td>-0.926227094</td><td>-0.962051516</td><td>-0.827516660</td><td>-0.88594284 </td></tr>\n",
       "\t<tr><th scope=row>Rv0044c</th><td>-0.53688183 </td><td> 0.092225430</td><td> 0.013122606</td><td> 0.100785743</td><td> 0.32621697 </td></tr>\n",
       "\t<tr><th scope=row>...</th><td>...</td><td>...</td><td>...</td><td>...</td><td>...</td></tr>\n",
       "\t<tr><th scope=row>Rv3878</th><td>-0.06130933</td><td>-0.74448666</td><td>-0.75309194</td><td>-0.65484802</td><td> 0.03112597</td></tr>\n",
       "\t<tr><th scope=row>Rv3879c</th><td> 0.06823915</td><td>-0.21012357</td><td>-0.03972708</td><td> 0.03135121</td><td> 0.30673590</td></tr>\n",
       "\t<tr><th scope=row>Rv3880c</th><td> 0.11445827</td><td> 0.18606537</td><td> 0.07095339</td><td>-0.10297582</td><td>-0.40040617</td></tr>\n",
       "\t<tr><th scope=row>Rv3881c</th><td> 0.14654074</td><td> 0.02309646</td><td>-0.05481385</td><td>-0.09802158</td><td> 0.19703104</td></tr>\n",
       "\t<tr><th scope=row>Rv3882c</th><td>-0.45099790</td><td>-0.84808974</td><td>-0.12563430</td><td>-0.04170022</td><td> 0.29251349</td></tr>\n",
       "\t<tr><th scope=row>Rv3883c</th><td>-0.01683707</td><td>-0.23399157</td><td>-0.34418601</td><td>-0.64431963</td><td>-0.73272839</td></tr>\n",
       "\t<tr><th scope=row>Rv3885c</th><td>-0.86729958</td><td>-1.07559404</td><td>-0.71457540</td><td>-1.02929183</td><td>-0.18187043</td></tr>\n",
       "\t<tr><th scope=row>Rv3886c</th><td>-0.13855986</td><td>-0.11971868</td><td>-0.26837928</td><td>-0.53207896</td><td>-0.65103554</td></tr>\n",
       "\t<tr><th scope=row>Rv3888c</th><td>-0.56506364</td><td>-0.46723458</td><td>-0.36607393</td><td>-0.28573594</td><td>-0.52118767</td></tr>\n",
       "\t<tr><th scope=row>Rv3890c</th><td>-1.31826674</td><td>-1.84932716</td><td>-1.79455651</td><td>-1.77432953</td><td>-0.91971453</td></tr>\n",
       "\t<tr><th scope=row>Rv3891c</th><td>-0.89620037</td><td>-1.60045556</td><td>-1.17890464</td><td>-1.43932740</td><td>-1.09668472</td></tr>\n",
       "\t<tr><th scope=row>Rv3894c</th><td>-0.60937937</td><td>-0.56788052</td><td>-0.98327167</td><td>-0.31422909</td><td>-0.62682692</td></tr>\n",
       "\t<tr><th scope=row>Rv3895c</th><td>-0.39303927</td><td>-0.29678522</td><td>-0.12096904</td><td>-0.33305531</td><td>-0.24343514</td></tr>\n",
       "\t<tr><th scope=row>Rv3898c</th><td>-2.00772354</td><td>-3.22950390</td><td>-3.92646954</td><td>-2.43808733</td><td>-0.44292648</td></tr>\n",
       "\t<tr><th scope=row>Rv3902c</th><td> 0.18309470</td><td> 0.09395300</td><td> 0.35808361</td><td> 0.03243809</td><td> 0.00168048</td></tr>\n",
       "\t<tr><th scope=row>Rv3907c</th><td>-0.15894840</td><td>-0.18935272</td><td>-0.08674315</td><td>-0.07289844</td><td> 0.15670667</td></tr>\n",
       "\t<tr><th scope=row>Rv3908</th><td> 0.54048599</td><td> 0.20102635</td><td> 0.11459441</td><td> 0.21172182</td><td> 0.92396656</td></tr>\n",
       "\t<tr><th scope=row>Rv3909</th><td>-0.09958926</td><td>-0.07466033</td><td>-0.14616859</td><td>-0.17551217</td><td>-0.37940721</td></tr>\n",
       "\t<tr><th scope=row>Rv3910</th><td> 0.17486371</td><td> 0.22609093</td><td> 0.20188106</td><td> 0.13688209</td><td>-0.27808340</td></tr>\n",
       "\t<tr><th scope=row>Rv3913</th><td> 0.05560290</td><td>-0.36606163</td><td>-0.41228604</td><td>-0.20854431</td><td> 0.31141830</td></tr>\n",
       "\t<tr><th scope=row>Rv3914</th><td> 0.24590847</td><td> 0.09976672</td><td> 0.06608914</td><td> 0.07768609</td><td>-0.18340766</td></tr>\n",
       "\t<tr><th scope=row>Rv3915</th><td>-0.69461194</td><td>-0.87697969</td><td>-0.65714150</td><td>-0.76074150</td><td>-0.41196457</td></tr>\n",
       "\t<tr><th scope=row>Rv3916c</th><td> 0.71969648</td><td> 0.50198267</td><td> 0.77878262</td><td> 0.47693014</td><td>-0.02605886</td></tr>\n",
       "\t<tr><th scope=row>Rv3917c</th><td>-0.59499923</td><td>-0.54968565</td><td>-0.13904018</td><td>-0.14953849</td><td> 0.01387846</td></tr>\n",
       "\t<tr><th scope=row>Rv3918c</th><td>-0.51416830</td><td>-0.88065171</td><td>-0.55414494</td><td>-0.50147574</td><td>-0.24158856</td></tr>\n",
       "\t<tr><th scope=row>Rv3919c</th><td>-1.36158978</td><td>-0.54821064</td><td>-0.33165081</td><td>-0.28061111</td><td>-1.78932419</td></tr>\n",
       "\t<tr><th scope=row>Rv3920c</th><td>-0.52500970</td><td>-0.87457652</td><td>-1.19652031</td><td>-0.95663724</td><td>-0.14971598</td></tr>\n",
       "\t<tr><th scope=row>Rv3921c</th><td>-0.11177798</td><td>-0.04751794</td><td>-0.06646940</td><td> 0.14539703</td><td>-0.18214804</td></tr>\n",
       "\t<tr><th scope=row>Rv3922c</th><td>-1.90127000</td><td>-1.21159311</td><td>-0.65754523</td><td>-1.00115219</td><td>-0.94422887</td></tr>\n",
       "\t<tr><th scope=row>Rv3924c</th><td> 1.00864323</td><td> 0.95834172</td><td> 0.97684296</td><td> 1.38969654</td><td> 1.37057643</td></tr>\n",
       "</tbody>\n",
       "</table>\n"
      ],
      "text/latex": [
       "\\begin{tabular}{r|lllll}\n",
       "  & d05 & d10 & d20 & d20.06 & d20.48\\\\\n",
       "\\hline\n",
       "\tRv0001 & -0.36509932  & -0.617653835 & -0.416322885 & -0.391379910 & -0.58078306 \\\\\n",
       "\tRv0002 &  0.34052096  &  0.285545223 & -0.160510036 &  0.035462157 &  0.55754124 \\\\\n",
       "\tRv0005 &  0.03119920  & -0.212113283 & -0.363708806 & -0.275038793 & -0.26260650 \\\\\n",
       "\tRv0006 & -0.07271234  &  0.150662575 &  0.327648516 &  0.266037554 &  0.35830121 \\\\\n",
       "\tRv0007 & -0.53655784  & -0.829949666 & -0.827991048 & -1.012709922 & -0.52715210 \\\\\n",
       "\tRv0008c & -0.05388936  &  0.066548444 &  0.003136684 & -0.054598725 & -0.46106162 \\\\\n",
       "\tRv0009 & -0.22441652  & -0.006602043 &  0.182690545 &  0.002000166 & -0.07279753 \\\\\n",
       "\tRv0011c & -0.23617776  & -0.202916439 & -0.621482268 & -0.537036051 & -0.01468218 \\\\\n",
       "\tRv0013 &  0.20382121  & -0.041203820 & -0.384507358 & -0.361458103 &  0.26721063 \\\\\n",
       "\tRv0014c &  0.35807628  & -0.090115969 &  0.235609688 &  0.345643271 &  0.03520898 \\\\\n",
       "\tRv0015c & -1.00591338  & -1.013073330 & -0.604187492 & -0.928414469 & -0.99854279 \\\\\n",
       "\tRv0016c & -0.17343522  &  0.111278552 &  0.161385620 &  0.162252114 & -0.12596951 \\\\\n",
       "\tRv0017c & -0.14486807  &  0.244730055 & -0.242666209 & -0.239900989 & -0.34468623 \\\\\n",
       "\tRv0018c & -0.06774955  & -0.020333250 &  0.196179044 & -0.042239870 & -0.11593401 \\\\\n",
       "\tRv0019c & -0.31740005  & -0.391017404 & -0.226935830 & -0.169637493 & -0.09641052 \\\\\n",
       "\tRv0020c &  0.47425144  &  0.523564825 &  0.471181669 &  0.384634813 &  0.37167626 \\\\\n",
       "\tRv0023 &  0.13823439  &  0.243598761 &  0.353988400 &  0.359400559 &  0.13797671 \\\\\n",
       "\tRv0025 & -1.49420842  & -0.135758780 & -0.052473018 & -0.266211123 &  0.28044287 \\\\\n",
       "\tRv0027 & -0.38077073  & -0.520095401 & -0.725040952 & -0.851182604 & -0.15646028 \\\\\n",
       "\tRv0028 & -0.33015751  &  0.046646344 &  0.091738475 &  0.017682596 & -0.13158202 \\\\\n",
       "\tRv0029 & -0.64928980  & -0.509636200 & -0.496762983 & -0.287252305 &  0.17504435 \\\\\n",
       "\tRv0030 &  1.41140342  &  1.873137446 &  1.853213165 &  1.661607553 &  0.72627332 \\\\\n",
       "\tRv0034 & -0.39459614  & -0.167369439 & -0.175683587 & -0.133154379 & -0.55521289 \\\\\n",
       "\tRv0035 & -0.64198399  & -0.811768051 & -0.873678661 & -0.877934717 & -0.40191866 \\\\\n",
       "\tRv0036c &  0.43677418  &  0.111389125 &  0.200136745 &  0.119637380 &  0.73333978 \\\\\n",
       "\tRv0038 &  0.37535592  &  0.530301535 &  0.688581690 &  0.529077564 &  0.21046295 \\\\\n",
       "\tRv0041 & -0.02521824  & -0.011972372 & -0.424252506 & -0.365834106 & -0.06026769 \\\\\n",
       "\tRv0042c & -0.04476382  & -0.476752087 & -0.619301005 & -0.431752533 & -0.20714550 \\\\\n",
       "\tRv0043c & -0.68336588  & -0.926227094 & -0.962051516 & -0.827516660 & -0.88594284 \\\\\n",
       "\tRv0044c & -0.53688183  &  0.092225430 &  0.013122606 &  0.100785743 &  0.32621697 \\\\\n",
       "\t... & ... & ... & ... & ... & ...\\\\\n",
       "\tRv3878 & -0.06130933 & -0.74448666 & -0.75309194 & -0.65484802 &  0.03112597\\\\\n",
       "\tRv3879c &  0.06823915 & -0.21012357 & -0.03972708 &  0.03135121 &  0.30673590\\\\\n",
       "\tRv3880c &  0.11445827 &  0.18606537 &  0.07095339 & -0.10297582 & -0.40040617\\\\\n",
       "\tRv3881c &  0.14654074 &  0.02309646 & -0.05481385 & -0.09802158 &  0.19703104\\\\\n",
       "\tRv3882c & -0.45099790 & -0.84808974 & -0.12563430 & -0.04170022 &  0.29251349\\\\\n",
       "\tRv3883c & -0.01683707 & -0.23399157 & -0.34418601 & -0.64431963 & -0.73272839\\\\\n",
       "\tRv3885c & -0.86729958 & -1.07559404 & -0.71457540 & -1.02929183 & -0.18187043\\\\\n",
       "\tRv3886c & -0.13855986 & -0.11971868 & -0.26837928 & -0.53207896 & -0.65103554\\\\\n",
       "\tRv3888c & -0.56506364 & -0.46723458 & -0.36607393 & -0.28573594 & -0.52118767\\\\\n",
       "\tRv3890c & -1.31826674 & -1.84932716 & -1.79455651 & -1.77432953 & -0.91971453\\\\\n",
       "\tRv3891c & -0.89620037 & -1.60045556 & -1.17890464 & -1.43932740 & -1.09668472\\\\\n",
       "\tRv3894c & -0.60937937 & -0.56788052 & -0.98327167 & -0.31422909 & -0.62682692\\\\\n",
       "\tRv3895c & -0.39303927 & -0.29678522 & -0.12096904 & -0.33305531 & -0.24343514\\\\\n",
       "\tRv3898c & -2.00772354 & -3.22950390 & -3.92646954 & -2.43808733 & -0.44292648\\\\\n",
       "\tRv3902c &  0.18309470 &  0.09395300 &  0.35808361 &  0.03243809 &  0.00168048\\\\\n",
       "\tRv3907c & -0.15894840 & -0.18935272 & -0.08674315 & -0.07289844 &  0.15670667\\\\\n",
       "\tRv3908 &  0.54048599 &  0.20102635 &  0.11459441 &  0.21172182 &  0.92396656\\\\\n",
       "\tRv3909 & -0.09958926 & -0.07466033 & -0.14616859 & -0.17551217 & -0.37940721\\\\\n",
       "\tRv3910 &  0.17486371 &  0.22609093 &  0.20188106 &  0.13688209 & -0.27808340\\\\\n",
       "\tRv3913 &  0.05560290 & -0.36606163 & -0.41228604 & -0.20854431 &  0.31141830\\\\\n",
       "\tRv3914 &  0.24590847 &  0.09976672 &  0.06608914 &  0.07768609 & -0.18340766\\\\\n",
       "\tRv3915 & -0.69461194 & -0.87697969 & -0.65714150 & -0.76074150 & -0.41196457\\\\\n",
       "\tRv3916c &  0.71969648 &  0.50198267 &  0.77878262 &  0.47693014 & -0.02605886\\\\\n",
       "\tRv3917c & -0.59499923 & -0.54968565 & -0.13904018 & -0.14953849 &  0.01387846\\\\\n",
       "\tRv3918c & -0.51416830 & -0.88065171 & -0.55414494 & -0.50147574 & -0.24158856\\\\\n",
       "\tRv3919c & -1.36158978 & -0.54821064 & -0.33165081 & -0.28061111 & -1.78932419\\\\\n",
       "\tRv3920c & -0.52500970 & -0.87457652 & -1.19652031 & -0.95663724 & -0.14971598\\\\\n",
       "\tRv3921c & -0.11177798 & -0.04751794 & -0.06646940 &  0.14539703 & -0.18214804\\\\\n",
       "\tRv3922c & -1.90127000 & -1.21159311 & -0.65754523 & -1.00115219 & -0.94422887\\\\\n",
       "\tRv3924c &  1.00864323 &  0.95834172 &  0.97684296 &  1.38969654 &  1.37057643\\\\\n",
       "\\end{tabular}\n"
      ],
      "text/markdown": [
       "\n",
       "| <!--/--> | d05 | d10 | d20 | d20.06 | d20.48 |\n",
       "|---|---|---|---|---|---|\n",
       "| Rv0001 | -0.36509932  | -0.617653835 | -0.416322885 | -0.391379910 | -0.58078306  |\n",
       "| Rv0002 |  0.34052096  |  0.285545223 | -0.160510036 |  0.035462157 |  0.55754124  |\n",
       "| Rv0005 |  0.03119920  | -0.212113283 | -0.363708806 | -0.275038793 | -0.26260650  |\n",
       "| Rv0006 | -0.07271234  |  0.150662575 |  0.327648516 |  0.266037554 |  0.35830121  |\n",
       "| Rv0007 | -0.53655784  | -0.829949666 | -0.827991048 | -1.012709922 | -0.52715210  |\n",
       "| Rv0008c | -0.05388936  |  0.066548444 |  0.003136684 | -0.054598725 | -0.46106162  |\n",
       "| Rv0009 | -0.22441652  | -0.006602043 |  0.182690545 |  0.002000166 | -0.07279753  |\n",
       "| Rv0011c | -0.23617776  | -0.202916439 | -0.621482268 | -0.537036051 | -0.01468218  |\n",
       "| Rv0013 |  0.20382121  | -0.041203820 | -0.384507358 | -0.361458103 |  0.26721063  |\n",
       "| Rv0014c |  0.35807628  | -0.090115969 |  0.235609688 |  0.345643271 |  0.03520898  |\n",
       "| Rv0015c | -1.00591338  | -1.013073330 | -0.604187492 | -0.928414469 | -0.99854279  |\n",
       "| Rv0016c | -0.17343522  |  0.111278552 |  0.161385620 |  0.162252114 | -0.12596951  |\n",
       "| Rv0017c | -0.14486807  |  0.244730055 | -0.242666209 | -0.239900989 | -0.34468623  |\n",
       "| Rv0018c | -0.06774955  | -0.020333250 |  0.196179044 | -0.042239870 | -0.11593401  |\n",
       "| Rv0019c | -0.31740005  | -0.391017404 | -0.226935830 | -0.169637493 | -0.09641052  |\n",
       "| Rv0020c |  0.47425144  |  0.523564825 |  0.471181669 |  0.384634813 |  0.37167626  |\n",
       "| Rv0023 |  0.13823439  |  0.243598761 |  0.353988400 |  0.359400559 |  0.13797671  |\n",
       "| Rv0025 | -1.49420842  | -0.135758780 | -0.052473018 | -0.266211123 |  0.28044287  |\n",
       "| Rv0027 | -0.38077073  | -0.520095401 | -0.725040952 | -0.851182604 | -0.15646028  |\n",
       "| Rv0028 | -0.33015751  |  0.046646344 |  0.091738475 |  0.017682596 | -0.13158202  |\n",
       "| Rv0029 | -0.64928980  | -0.509636200 | -0.496762983 | -0.287252305 |  0.17504435  |\n",
       "| Rv0030 |  1.41140342  |  1.873137446 |  1.853213165 |  1.661607553 |  0.72627332  |\n",
       "| Rv0034 | -0.39459614  | -0.167369439 | -0.175683587 | -0.133154379 | -0.55521289  |\n",
       "| Rv0035 | -0.64198399  | -0.811768051 | -0.873678661 | -0.877934717 | -0.40191866  |\n",
       "| Rv0036c |  0.43677418  |  0.111389125 |  0.200136745 |  0.119637380 |  0.73333978  |\n",
       "| Rv0038 |  0.37535592  |  0.530301535 |  0.688581690 |  0.529077564 |  0.21046295  |\n",
       "| Rv0041 | -0.02521824  | -0.011972372 | -0.424252506 | -0.365834106 | -0.06026769  |\n",
       "| Rv0042c | -0.04476382  | -0.476752087 | -0.619301005 | -0.431752533 | -0.20714550  |\n",
       "| Rv0043c | -0.68336588  | -0.926227094 | -0.962051516 | -0.827516660 | -0.88594284  |\n",
       "| Rv0044c | -0.53688183  |  0.092225430 |  0.013122606 |  0.100785743 |  0.32621697  |\n",
       "| ... | ... | ... | ... | ... | ... |\n",
       "| Rv3878 | -0.06130933 | -0.74448666 | -0.75309194 | -0.65484802 |  0.03112597 |\n",
       "| Rv3879c |  0.06823915 | -0.21012357 | -0.03972708 |  0.03135121 |  0.30673590 |\n",
       "| Rv3880c |  0.11445827 |  0.18606537 |  0.07095339 | -0.10297582 | -0.40040617 |\n",
       "| Rv3881c |  0.14654074 |  0.02309646 | -0.05481385 | -0.09802158 |  0.19703104 |\n",
       "| Rv3882c | -0.45099790 | -0.84808974 | -0.12563430 | -0.04170022 |  0.29251349 |\n",
       "| Rv3883c | -0.01683707 | -0.23399157 | -0.34418601 | -0.64431963 | -0.73272839 |\n",
       "| Rv3885c | -0.86729958 | -1.07559404 | -0.71457540 | -1.02929183 | -0.18187043 |\n",
       "| Rv3886c | -0.13855986 | -0.11971868 | -0.26837928 | -0.53207896 | -0.65103554 |\n",
       "| Rv3888c | -0.56506364 | -0.46723458 | -0.36607393 | -0.28573594 | -0.52118767 |\n",
       "| Rv3890c | -1.31826674 | -1.84932716 | -1.79455651 | -1.77432953 | -0.91971453 |\n",
       "| Rv3891c | -0.89620037 | -1.60045556 | -1.17890464 | -1.43932740 | -1.09668472 |\n",
       "| Rv3894c | -0.60937937 | -0.56788052 | -0.98327167 | -0.31422909 | -0.62682692 |\n",
       "| Rv3895c | -0.39303927 | -0.29678522 | -0.12096904 | -0.33305531 | -0.24343514 |\n",
       "| Rv3898c | -2.00772354 | -3.22950390 | -3.92646954 | -2.43808733 | -0.44292648 |\n",
       "| Rv3902c |  0.18309470 |  0.09395300 |  0.35808361 |  0.03243809 |  0.00168048 |\n",
       "| Rv3907c | -0.15894840 | -0.18935272 | -0.08674315 | -0.07289844 |  0.15670667 |\n",
       "| Rv3908 |  0.54048599 |  0.20102635 |  0.11459441 |  0.21172182 |  0.92396656 |\n",
       "| Rv3909 | -0.09958926 | -0.07466033 | -0.14616859 | -0.17551217 | -0.37940721 |\n",
       "| Rv3910 |  0.17486371 |  0.22609093 |  0.20188106 |  0.13688209 | -0.27808340 |\n",
       "| Rv3913 |  0.05560290 | -0.36606163 | -0.41228604 | -0.20854431 |  0.31141830 |\n",
       "| Rv3914 |  0.24590847 |  0.09976672 |  0.06608914 |  0.07768609 | -0.18340766 |\n",
       "| Rv3915 | -0.69461194 | -0.87697969 | -0.65714150 | -0.76074150 | -0.41196457 |\n",
       "| Rv3916c |  0.71969648 |  0.50198267 |  0.77878262 |  0.47693014 | -0.02605886 |\n",
       "| Rv3917c | -0.59499923 | -0.54968565 | -0.13904018 | -0.14953849 |  0.01387846 |\n",
       "| Rv3918c | -0.51416830 | -0.88065171 | -0.55414494 | -0.50147574 | -0.24158856 |\n",
       "| Rv3919c | -1.36158978 | -0.54821064 | -0.33165081 | -0.28061111 | -1.78932419 |\n",
       "| Rv3920c | -0.52500970 | -0.87457652 | -1.19652031 | -0.95663724 | -0.14971598 |\n",
       "| Rv3921c | -0.11177798 | -0.04751794 | -0.06646940 |  0.14539703 | -0.18214804 |\n",
       "| Rv3922c | -1.90127000 | -1.21159311 | -0.65754523 | -1.00115219 | -0.94422887 |\n",
       "| Rv3924c |  1.00864323 |  0.95834172 |  0.97684296 |  1.38969654 |  1.37057643 |\n",
       "\n"
      ],
      "text/plain": [
       "        d05         d10          d20          d20.06       d20.48     \n",
       "Rv0001  -0.36509932 -0.617653835 -0.416322885 -0.391379910 -0.58078306\n",
       "Rv0002   0.34052096  0.285545223 -0.160510036  0.035462157  0.55754124\n",
       "Rv0005   0.03119920 -0.212113283 -0.363708806 -0.275038793 -0.26260650\n",
       "Rv0006  -0.07271234  0.150662575  0.327648516  0.266037554  0.35830121\n",
       "Rv0007  -0.53655784 -0.829949666 -0.827991048 -1.012709922 -0.52715210\n",
       "Rv0008c -0.05388936  0.066548444  0.003136684 -0.054598725 -0.46106162\n",
       "Rv0009  -0.22441652 -0.006602043  0.182690545  0.002000166 -0.07279753\n",
       "Rv0011c -0.23617776 -0.202916439 -0.621482268 -0.537036051 -0.01468218\n",
       "Rv0013   0.20382121 -0.041203820 -0.384507358 -0.361458103  0.26721063\n",
       "Rv0014c  0.35807628 -0.090115969  0.235609688  0.345643271  0.03520898\n",
       "Rv0015c -1.00591338 -1.013073330 -0.604187492 -0.928414469 -0.99854279\n",
       "Rv0016c -0.17343522  0.111278552  0.161385620  0.162252114 -0.12596951\n",
       "Rv0017c -0.14486807  0.244730055 -0.242666209 -0.239900989 -0.34468623\n",
       "Rv0018c -0.06774955 -0.020333250  0.196179044 -0.042239870 -0.11593401\n",
       "Rv0019c -0.31740005 -0.391017404 -0.226935830 -0.169637493 -0.09641052\n",
       "Rv0020c  0.47425144  0.523564825  0.471181669  0.384634813  0.37167626\n",
       "Rv0023   0.13823439  0.243598761  0.353988400  0.359400559  0.13797671\n",
       "Rv0025  -1.49420842 -0.135758780 -0.052473018 -0.266211123  0.28044287\n",
       "Rv0027  -0.38077073 -0.520095401 -0.725040952 -0.851182604 -0.15646028\n",
       "Rv0028  -0.33015751  0.046646344  0.091738475  0.017682596 -0.13158202\n",
       "Rv0029  -0.64928980 -0.509636200 -0.496762983 -0.287252305  0.17504435\n",
       "Rv0030   1.41140342  1.873137446  1.853213165  1.661607553  0.72627332\n",
       "Rv0034  -0.39459614 -0.167369439 -0.175683587 -0.133154379 -0.55521289\n",
       "Rv0035  -0.64198399 -0.811768051 -0.873678661 -0.877934717 -0.40191866\n",
       "Rv0036c  0.43677418  0.111389125  0.200136745  0.119637380  0.73333978\n",
       "Rv0038   0.37535592  0.530301535  0.688581690  0.529077564  0.21046295\n",
       "Rv0041  -0.02521824 -0.011972372 -0.424252506 -0.365834106 -0.06026769\n",
       "Rv0042c -0.04476382 -0.476752087 -0.619301005 -0.431752533 -0.20714550\n",
       "Rv0043c -0.68336588 -0.926227094 -0.962051516 -0.827516660 -0.88594284\n",
       "Rv0044c -0.53688183  0.092225430  0.013122606  0.100785743  0.32621697\n",
       "...     ...         ...          ...          ...          ...        \n",
       "Rv3878  -0.06130933 -0.74448666  -0.75309194  -0.65484802   0.03112597\n",
       "Rv3879c  0.06823915 -0.21012357  -0.03972708   0.03135121   0.30673590\n",
       "Rv3880c  0.11445827  0.18606537   0.07095339  -0.10297582  -0.40040617\n",
       "Rv3881c  0.14654074  0.02309646  -0.05481385  -0.09802158   0.19703104\n",
       "Rv3882c -0.45099790 -0.84808974  -0.12563430  -0.04170022   0.29251349\n",
       "Rv3883c -0.01683707 -0.23399157  -0.34418601  -0.64431963  -0.73272839\n",
       "Rv3885c -0.86729958 -1.07559404  -0.71457540  -1.02929183  -0.18187043\n",
       "Rv3886c -0.13855986 -0.11971868  -0.26837928  -0.53207896  -0.65103554\n",
       "Rv3888c -0.56506364 -0.46723458  -0.36607393  -0.28573594  -0.52118767\n",
       "Rv3890c -1.31826674 -1.84932716  -1.79455651  -1.77432953  -0.91971453\n",
       "Rv3891c -0.89620037 -1.60045556  -1.17890464  -1.43932740  -1.09668472\n",
       "Rv3894c -0.60937937 -0.56788052  -0.98327167  -0.31422909  -0.62682692\n",
       "Rv3895c -0.39303927 -0.29678522  -0.12096904  -0.33305531  -0.24343514\n",
       "Rv3898c -2.00772354 -3.22950390  -3.92646954  -2.43808733  -0.44292648\n",
       "Rv3902c  0.18309470  0.09395300   0.35808361   0.03243809   0.00168048\n",
       "Rv3907c -0.15894840 -0.18935272  -0.08674315  -0.07289844   0.15670667\n",
       "Rv3908   0.54048599  0.20102635   0.11459441   0.21172182   0.92396656\n",
       "Rv3909  -0.09958926 -0.07466033  -0.14616859  -0.17551217  -0.37940721\n",
       "Rv3910   0.17486371  0.22609093   0.20188106   0.13688209  -0.27808340\n",
       "Rv3913   0.05560290 -0.36606163  -0.41228604  -0.20854431   0.31141830\n",
       "Rv3914   0.24590847  0.09976672   0.06608914   0.07768609  -0.18340766\n",
       "Rv3915  -0.69461194 -0.87697969  -0.65714150  -0.76074150  -0.41196457\n",
       "Rv3916c  0.71969648  0.50198267   0.77878262   0.47693014  -0.02605886\n",
       "Rv3917c -0.59499923 -0.54968565  -0.13904018  -0.14953849   0.01387846\n",
       "Rv3918c -0.51416830 -0.88065171  -0.55414494  -0.50147574  -0.24158856\n",
       "Rv3919c -1.36158978 -0.54821064  -0.33165081  -0.28061111  -1.78932419\n",
       "Rv3920c -0.52500970 -0.87457652  -1.19652031  -0.95663724  -0.14971598\n",
       "Rv3921c -0.11177798 -0.04751794  -0.06646940   0.14539703  -0.18214804\n",
       "Rv3922c -1.90127000 -1.21159311  -0.65754523  -1.00115219  -0.94422887\n",
       "Rv3924c  1.00864323  0.95834172   0.97684296   1.38969654   1.37057643"
      ]
     },
     "metadata": {},
     "output_type": "display_data"
    }
   ],
   "source": [
    "file_name <- 'data/proteomics_TB_relative.xlsx'\n",
    "\n",
    "proteins <- read_excel(file_name, sheet='Mtb relative', skip=1)\n",
    "\n",
    "# does not include d00 since diffEXP of other timepoints calculated relative to d00\n",
    "log2FC <- proteins[, c(1, 7:11)]\n",
    "\n",
    "log2FC <- log2FC %>%\n",
    "  dplyr::rename(Protein='Protein...1', d05='d05...7', d10='d10...8',\n",
    "                d20='d20...9', d20.06='d20+06h...10', d20.48='d20+48h...11') %>%\n",
    "  column_to_rownames(var = 'Protein')\n",
    "\n",
    "# centers log2FC values (col value - col mean) and scales them (centered value / stnd. dev.)\n",
    "log2FC_scaled <- as.data.frame(apply(log2FC, MARGIN = 2, FUN = scale),\n",
    "                               row.names = rownames(log2FC))\n",
    "\n",
    "log2FC_scaled"
   ]
  },
  {
   "cell_type": "markdown",
   "metadata": {},
   "source": [
    "### Which stages are most similar based on ordination distances?"
   ]
  },
  {
   "cell_type": "code",
   "execution_count": 3,
   "metadata": {},
   "outputs": [
    {
     "data": {
      "text/plain": [
       "            d05      d10      d20   d20.06\n",
       "d10    20.77439                           \n",
       "d20    27.40908 17.34927                  \n",
       "d20.06 28.97234 21.62856 14.43795         \n",
       "d20.48 35.03640 40.04867 39.48463 37.20989"
      ]
     },
     "metadata": {},
     "output_type": "display_data"
    },
    {
     "data": {
      "text/plain": [
       "             d05       d10       d20    d20.06\n",
       "d10     693.1912                              \n",
       "d20     893.7097  585.9764                    \n",
       "d20.06  916.0753  679.9329  408.6911          \n",
       "d20.48 1225.1742 1377.5890 1353.7687 1282.3634"
      ]
     },
     "metadata": {},
     "output_type": "display_data"
    }
   ],
   "source": [
    "# dataframe transposed so that stages (days) are rownames; required for ordination dist. calculation\n",
    "protein_exp_euc <- vegdist(t(log2FC_scaled), method='euclidean')\n",
    "protein_exp_euc  # most similar: d20, d20.06 // most different: d10, d20.48\n",
    "\n",
    "protein_exp_man <- dist(t(log2FC_scaled), 'manhattan')\n",
    "protein_exp_man  # most similar: d20, d20.06 // most different: d10, d20.48"
   ]
  },
  {
   "cell_type": "markdown",
   "metadata": {},
   "source": [
    "**Analysis:** Euclidean and Manhattan distances converge on the same ordination result --> d20 and d20.06 are the most similar (i.e. their protein expressions are most correlated) whereas d10 and d20.48 are the most distinct.\n",
    "- This clustering method examines all protein log2-FC's simultaneously to describe how each of the 5 stages differ."
   ]
  },
  {
   "cell_type": "markdown",
   "metadata": {},
   "source": [
    "### Plot: Principal Component Analysis\n",
    "Can differentially expressed proteins (log2-FC vs. day 0) cluster to create distinct translational stages of infection? <br>\n",
    "Let's see when principal component analysis (PCA) reduces the dimensionality to two."
   ]
  },
  {
   "cell_type": "code",
   "execution_count": 4,
   "metadata": {},
   "outputs": [
    {
     "data": {
      "image/png": "[encoded data removed]",
      "text/plain": [
       "plot without title"
      ]
     },
     "metadata": {},
     "output_type": "display_data"
    }
   ],
   "source": [
    "pca <- prcomp(t(log2FC_scaled), center=TRUE)  # already scaled; PCA via singular value decomposition of the matrix\n",
    "\n",
    "## calculate the percentage of variation that each PC accounts for...\n",
    "pca.var <- pca$sdev^2\n",
    "pca.var.per <- round(pca.var/sum(pca.var)*100, 1)\n",
    "\n",
    "pca.data <- data.frame(Sample=rownames(pca$x), X=pca$x[,1], Y=pca$x[,2])\n",
    "\n",
    "pca_colors <- c('black', 'darkred', 'darkblue', 'darkblue', 'grey60')\n",
    "\n",
    "subt <- '*M. tuberculosis* Stages of Infection Clustered by Log2-FC Protein Expression'\n",
    "\n",
    "# we don't need summary() or plot() since info. captured in plot\n",
    "ggplot(data=pca.data, aes(x=X, y=Y, label=Sample)) +\n",
    "  geom_text(size=4, color=pca_colors) +\n",
    "  xlab(paste('PC1 - ', pca.var.per[1], '%', sep='')) +\n",
    "  ylab(paste('PC2 - ', pca.var.per[2], '%', sep='')) +\n",
    "  labs(subtitle=subt) + theme_bw() + scale_color_manual(pca_colors) +\n",
    "  theme(plot.subtitle=element_markdown(size=11))"
   ]
  },
  {
   "cell_type": "markdown",
   "metadata": {},
   "source": [
    "**Analysis**: This seems clear-cut. The original paper referred to three stages of infection - normoxia (normal oxygen levels), hypoxia (low oxygen level), and reaeration (low to normal oxygen levels).\n",
    "\n",
    "**Based on the PCA plot, I'd probably redefine these three stages as four stages - normoxia (d00, d05), early hypoxia (d10), late hypoxia (d20, d20.06), and reaeration (d20.48).**"
   ]
  },
  {
   "cell_type": "markdown",
   "metadata": {},
   "source": [
    "### Identifies proteins most responsible for clustering based on loading scores\n",
    "PCA is capable of distilling many proteins (indep. variables) down to a few key ones"
   ]
  },
  {
   "cell_type": "code",
   "execution_count": 5,
   "metadata": {},
   "outputs": [
    {
     "data": {
      "text/html": [
       "<dl class=dl-horizontal>\n",
       "\t<dt>Rv2826c</dt>\n",
       "\t\t<dd>0.204566620815899</dd>\n",
       "\t<dt>Rv1342c</dt>\n",
       "\t\t<dd>0.152984434172449</dd>\n",
       "\t<dt>Rv2771c</dt>\n",
       "\t\t<dd>0.114374535988339</dd>\n",
       "\t<dt>Rv0073</dt>\n",
       "\t\t<dd>0.102996307586468</dd>\n",
       "\t<dt>Rv1891</dt>\n",
       "\t\t<dd>0.100242367062563</dd>\n",
       "\t<dt>Rv1004c</dt>\n",
       "\t\t<dd>-0.0961135302589104</dd>\n",
       "</dl>\n"
      ],
      "text/latex": [
       "\\begin{description*}\n",
       "\\item[Rv2826c] 0.204566620815899\n",
       "\\item[Rv1342c] 0.152984434172449\n",
       "\\item[Rv2771c] 0.114374535988339\n",
       "\\item[Rv0073] 0.102996307586468\n",
       "\\item[Rv1891] 0.100242367062563\n",
       "\\item[Rv1004c] -0.0961135302589104\n",
       "\\end{description*}\n"
      ],
      "text/markdown": [
       "Rv2826c\n",
       ":   0.204566620815899Rv1342c\n",
       ":   0.152984434172449Rv2771c\n",
       ":   0.114374535988339Rv0073\n",
       ":   0.102996307586468Rv1891\n",
       ":   0.100242367062563Rv1004c\n",
       ":   -0.0961135302589104\n",
       "\n"
      ],
      "text/plain": [
       "    Rv2826c     Rv1342c     Rv2771c      Rv0073      Rv1891     Rv1004c \n",
       " 0.20456662  0.15298443  0.11437454  0.10299631  0.10024237 -0.09611353 "
      ]
     },
     "metadata": {},
     "output_type": "display_data"
    }
   ],
   "source": [
    "loading_scores_pc1 <- pca$rotation[,1]  # all rows, PC1 col\n",
    "\n",
    "protein_scores_pc1 <- abs(loading_scores_pc1)  # gets magnitudes\n",
    "\n",
    "protein_score_ranked_pc1 <- sort(protein_scores_pc1, decreasing=TRUE)\n",
    "\n",
    "top_six_proteins_pc1 <- names(protein_score_ranked_pc1[1:6])\n",
    "\n",
    "pca$rotation[top_six_proteins_pc1,1] # shows their scores (and +/- sign)"
   ]
  },
  {
   "cell_type": "code",
   "execution_count": 6,
   "metadata": {},
   "outputs": [
    {
     "data": {
      "text/html": [
       "<dl class=dl-horizontal>\n",
       "\t<dt>Rv0251c</dt>\n",
       "\t\t<dd>-0.0823811992263882</dd>\n",
       "\t<dt>Rv1984c</dt>\n",
       "\t\t<dd>-0.045263768781151</dd>\n",
       "\t<dt>Rv2007c</dt>\n",
       "\t\t<dd>0.0706574599165773</dd>\n",
       "</dl>\n"
      ],
      "text/latex": [
       "\\begin{description*}\n",
       "\\item[Rv0251c] -0.0823811992263882\n",
       "\\item[Rv1984c] -0.045263768781151\n",
       "\\item[Rv2007c] 0.0706574599165773\n",
       "\\end{description*}\n"
      ],
      "text/markdown": [
       "Rv0251c\n",
       ":   -0.0823811992263882Rv1984c\n",
       ":   -0.045263768781151Rv2007c\n",
       ":   0.0706574599165773\n",
       "\n"
      ],
      "text/plain": [
       "    Rv0251c     Rv1984c     Rv2007c \n",
       "-0.08238120 -0.04526377  0.07065746 "
      ]
     },
     "metadata": {},
     "output_type": "display_data"
    }
   ],
   "source": [
    "loading_scores_pc2 <- pca$rotation[,2]  # all rows, PC2 col\n",
    "\n",
    "protein_scores_pc2 <- abs(loading_scores_pc2)  # gets magnitudes\n",
    "\n",
    "protein_score_ranked_pc2 <- sort(protein_scores_pc2, decreasing=TRUE)\n",
    "\n",
    "top_three_proteins_pc2 <- names(protein_score_ranked_pc2[1:3])\n",
    "\n",
    "pca$rotation[top_three_proteins_pc2,1] # shows their scores (and +/- sign)"
   ]
  },
  {
   "cell_type": "markdown",
   "metadata": {},
   "source": [
    "**'QC' of Results:** <br>\n",
    "Rv2826c is one of the top 6 influential proteins for PC1 and it's log2-FC values vary among the 5 stages (Rv2826c: -1.83, 0.89, 1.16, 0.99, -2.99) <br>\n",
    "\n",
    "On the flip side, one less influential protein is Rv2031c. Although it has a high log2-FC value across all days, consistently high expression like this would not produce variance in the data (Rv2031c: 7.57, 8.16, 7.95, 7.82, 6.41) <br>\n",
    "\n",
    "Surprisingly, all six influential proteins for PC1 are uncharacterized, meaning their exact function is unknown. However, the three influential proteins for PC2 have annotated functions. <br>\n",
    "- Rv0251c: heat shock protein\n",
    "- Rv1984c: carboxylesterase; hydrolyzes various esters, including pNP-hexanoate (C6) and pNP-octanoate (C8)\n",
    "- Rv2007c: ferredoxin; iron-sulfur protein that transfers electrons in a wide variety of metabolic reactions"
   ]
  },
  {
   "cell_type": "markdown",
   "metadata": {},
   "source": [
    "## Conclusion\n",
    "***\n",
    "**Ultimately, this PCA analysis has enabled data-driven classifications (stages of infection in this case) as well as identification of high variance proteins that may be of interest for future analysis.**\n",
    "\n",
    "### Plot: PCA with most influential proteins"
   ]
  },
  {
   "cell_type": "code",
   "execution_count": 7,
   "metadata": {},
   "outputs": [
    {
     "name": "stderr",
     "output_type": "stream",
     "text": [
      "'nperm' >= set of all permutations: complete enumeration.\n",
      "Set of permutations < 'minperm'. Generating entire set.\n",
      "'nperm' >= set of all permutations: complete enumeration.\n",
      "Set of permutations < 'minperm'. Generating entire set.\n"
     ]
    },
    {
     "data": {
      "image/png": "[encoded data removed]",
      "text/plain": [
       "plot without title"
      ]
     },
     "metadata": {},
     "output_type": "display_data"
    }
   ],
   "source": [
    "protein_most_var <- log2FC %>% rownames_to_column('Protein') %>%\n",
    "  filter(Protein == 'Rv2826c' | Protein == 'Rv1342c' | Protein == 'Rv2771c' |\n",
    "         Protein == 'Rv0073' | Protein == 'Rv1891' | Protein == 'Rv1004c' |\n",
    "         Protein == 'Rv0251c' | Protein == 'Rv1984c' | Protein == 'Rv2007c') %>%\n",
    "  column_to_rownames('Protein')\n",
    "\n",
    "# calculates how site variables map onto the existing ordination\n",
    "ef <- envfit(pca, t(protein_most_var))\n",
    "\n",
    "plot(pca$x, xlab='PC01', ylab='PC02', pch=16, col='black')  # plots PCA data\n",
    "plot(ef, cex=0.5)"
   ]
  }
 ],
 "metadata": {
  "kernelspec": {
   "display_name": "R",
   "language": "R",
   "name": "ir"
  },
  "language_info": {
   "codemirror_mode": "r",
   "file_extension": ".r",
   "mimetype": "text/x-r-source",
   "name": "R",
   "pygments_lexer": "r",
   "version": "3.6.1"
  }
 },
 "nbformat": 4,
 "nbformat_minor": 2
}
